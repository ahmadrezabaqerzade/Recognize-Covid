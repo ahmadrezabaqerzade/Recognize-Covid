{
 "cells": [
  {
   "cell_type": "code",
   "execution_count": 26,
   "metadata": {},
   "outputs": [],
   "source": [
    "import torch as tc \n",
    "from torch import optim, nn  \n",
    "from torch.utils.data import TensorDataset, DataLoader, random_split \n",
    "\n",
    "from torchvision import transforms as T \n",
    "from torchvision import datasets \n",
    "\n",
    "from torchmetrics import Accuracy \n",
    "\n",
    "import numpy as np \n",
    "import pandas as pd \n",
    "import matplotlib.pyplot as plt \n",
    "\n",
    "from tqdm import tqdm"
   ]
  },
  {
   "cell_type": "code",
   "execution_count": 27,
   "metadata": {},
   "outputs": [],
   "source": [
    "device = 'cuda' if tc.cuda.is_available() else 'cpu'"
   ]
  },
  {
   "cell_type": "code",
   "execution_count": 28,
   "metadata": {},
   "outputs": [],
   "source": [
    "transform = T.Compose([T.ToTensor(), T.Resize(size = (512, 512))])"
   ]
  },
  {
   "cell_type": "code",
   "execution_count": 29,
   "metadata": {},
   "outputs": [],
   "source": [
    "train_dataset = datasets.ImageFolder('/home/ahmadrezabaqerzadeh/CovidDataSet/train/', transform = transform)\n",
    "valid_dataset = datasets.ImageFolder('/home/ahmadrezabaqerzadeh/CovidDataSet/validation/', transform = transform)"
   ]
  },
  {
   "cell_type": "code",
   "execution_count": 30,
   "metadata": {},
   "outputs": [
    {
     "data": {
      "text/plain": [
       "Dataset ImageFolder\n",
       "    Number of datapoints: 73\n",
       "    Root location: /home/ahmadrezabaqerzadeh/CovidDataSet/train/\n",
       "    StandardTransform\n",
       "Transform: Compose(\n",
       "               ToTensor()\n",
       "               Resize(size=(512, 512), interpolation=bilinear, max_size=None, antialias=None)\n",
       "           )"
      ]
     },
     "execution_count": 30,
     "metadata": {},
     "output_type": "execute_result"
    }
   ],
   "source": [
    "train_dataset"
   ]
  },
  {
   "cell_type": "code",
   "execution_count": 31,
   "metadata": {},
   "outputs": [
    {
     "data": {
      "text/plain": [
       "Dataset ImageFolder\n",
       "    Number of datapoints: 21\n",
       "    Root location: /home/ahmadrezabaqerzadeh/CovidDataSet/validation/\n",
       "    StandardTransform\n",
       "Transform: Compose(\n",
       "               ToTensor()\n",
       "               Resize(size=(512, 512), interpolation=bilinear, max_size=None, antialias=None)\n",
       "           )"
      ]
     },
     "execution_count": 31,
     "metadata": {},
     "output_type": "execute_result"
    }
   ],
   "source": [
    "valid_dataset"
   ]
  },
  {
   "cell_type": "code",
   "execution_count": 32,
   "metadata": {},
   "outputs": [],
   "source": [
    "train_loader = DataLoader(train_dataset, batch_size = 20, shuffle = True)\n",
    "valid_loader = DataLoader(valid_dataset, batch_size = 21, shuffle = False)"
   ]
  },
  {
   "cell_type": "code",
   "execution_count": 33,
   "metadata": {},
   "outputs": [],
   "source": [
    "x, y = next(iter(train_loader))"
   ]
  },
  {
   "cell_type": "code",
   "execution_count": 34,
   "metadata": {},
   "outputs": [],
   "source": [
    "class TransformerModel(nn.Module):\n",
    "    \n",
    "    def __init__(self,d_model, nhead, num_encoder_layers, num_decoder_layers, dim_feedforward, dropout, activation, num_classes):\n",
    "        super(TransformerModel, self).__init__()\n",
    "        \n",
    "        self.encoder = nn.Transformer(d_model, nhead, num_encoder_layers, num_decoder_layers, dim_feedforward, dropout, activation, batch_first = True).encoder \n",
    "        \n",
    "        self.fc = nn.LazyLinear(num_classes)\n",
    "        \n",
    "        \n",
    "        \n",
    "    def forward(self, x):\n",
    "        \n",
    "        x = x.mean(dim = 1)\n",
    "        \n",
    "        y = self.encoder(x)\n",
    "        \n",
    "        y = y.mean(dim = 1)\n",
    "        \n",
    "        y = self.fc(y)\n",
    "        \n",
    "        return y"
   ]
  },
  {
   "cell_type": "code",
   "execution_count": 35,
   "metadata": {},
   "outputs": [],
   "source": [
    "class CNNModel(nn.Module):\n",
    "    \n",
    "    def __init__(self, num_filters, kernel_size, num_classes):\n",
    "        super(CNNModel, self).__init__()\n",
    "        \n",
    "        self.conv1 = nn.LazyConv2d(out_channels = num_filters[0], kernel_size = kernel_size[0], stride = 1, padding = 1, bias = True)\n",
    "        self.bn1   = nn.LazyBatchNorm2d()\n",
    "        self.mpool1 = nn.MaxPool2d(2, 2)\n",
    "        \n",
    "        self.conv2 = nn.LazyConv2d(out_channels = num_filters[1], kernel_size = kernel_size[1], stride = 1, padding = 1, bias = True)\n",
    "        self.bn2   = nn.LazyBatchNorm2d()\n",
    "        self.mpool2 = nn.MaxPool2d(2, 2)\n",
    "        \n",
    "        self.conv3 = nn.LazyConv2d(out_channels = num_filters[2], kernel_size = kernel_size[2], stride = 1, padding = 1, bias = True)\n",
    "        self.bn3   = nn.LazyBatchNorm2d()\n",
    "        self.mpool3 = nn.MaxPool2d(2, 2)\n",
    "        \n",
    "        self.conv4 = nn.LazyConv2d(out_channels = num_filters[3], kernel_size = kernel_size[3], stride = 1, padding = 1, bias = True)\n",
    "        self.bn4   = nn.LazyBatchNorm2d()\n",
    "        self.mpool4 = nn.MaxPool2d(2, 2)\n",
    "        \n",
    "        self.conv5 = nn.LazyConv2d(out_channels = num_filters[4], kernel_size = kernel_size[4], stride = 1, padding = 1, bias = True)\n",
    "        self.bn5   = nn.LazyBatchNorm2d()\n",
    "        self.apool = nn.AdaptiveAvgPool2d((1, 1))\n",
    "        \n",
    "        self.fc = nn.LazyLinear(num_classes)\n",
    "        \n",
    "    def forward(self, x):\n",
    "        \n",
    "        y = self.conv1(x)\n",
    "        y = self.bn1(y)\n",
    "        y = self.mpool1(y)\n",
    "        y = y.relu()\n",
    "        y = nn.Dropout(0.3)(y)\n",
    "        \n",
    "        y = self.conv2(y)\n",
    "        y = self.bn2(y)\n",
    "        y = self.mpool2(y)\n",
    "        y = y.relu()\n",
    "        y = nn.Dropout(0.3)(y)\n",
    "        \n",
    "        y = self.conv3(y)\n",
    "        y = self.bn3(y)\n",
    "        y = self.mpool3(y)\n",
    "        y = y.relu()\n",
    "        y = nn.Dropout(0.3)(y)\n",
    "        \n",
    "        y = self.conv4(y)\n",
    "        y = self.bn4(y)\n",
    "        y = self.mpool4(y)\n",
    "        y = y.relu()\n",
    "        y = nn.Dropout(0.3)(y)\n",
    "        \n",
    "        y = self.conv5(y)\n",
    "        y = self.bn5(y)\n",
    "        y = self.apool(y)\n",
    "        y = y.relu()\n",
    "        \n",
    "        y = y.mean(dim = 1)\n",
    "        \n",
    "        y = y.flatten(1)\n",
    "        \n",
    "        y = self.fc(y)\n",
    "        \n",
    "        return y"
   ]
  },
  {
   "cell_type": "code",
   "execution_count": 36,
   "metadata": {},
   "outputs": [],
   "source": [
    "class AverageMeter(object):\n",
    "    \"\"\"Computes and stores the average and current value\"\"\"\n",
    "    def __init__(self):\n",
    "        self.reset()\n",
    "\n",
    "    def reset(self):\n",
    "        self.val = 0\n",
    "        self.avg = 0\n",
    "        self.sum = 0\n",
    "        self.count = 0\n",
    "\n",
    "    def update(self, val, n=1):\n",
    "        self.val = val\n",
    "        self.sum += val * n\n",
    "        self.count += n\n",
    "        self.avg = self.sum / self.count"
   ]
  },
  {
   "cell_type": "code",
   "execution_count": 37,
   "metadata": {},
   "outputs": [],
   "source": [
    "def train_one_epoch(model, train_loader, loss_func, optimizer, epoch):\n",
    "    \n",
    "    train_loss = AverageMeter()\n",
    "    train_acc = Accuracy(task = 'binary').to(device)\n",
    "    \n",
    "    with tqdm(train_loader, unit = 'batch') as tepoch:\n",
    "        \n",
    "        if epoch is not None:\n",
    "            tepoch.set_description(f'Epoch={epoch}')\n",
    "        \n",
    "        for x, y in tepoch:\n",
    "            \n",
    "            x = x.to(device)\n",
    "            y = y.to(device)\n",
    "            \n",
    "            yp = model(x)\n",
    "            loss = loss_func(yp.squeeze(), y.type(tc.float))\n",
    "            loss.backward()\n",
    "            optimizer.step()\n",
    "            optimizer.zero_grad()\n",
    "            \n",
    "            train_loss.update(loss.item())\n",
    "            train_acc(yp.squeeze(), y)\n",
    "            \n",
    "            tepoch.set_postfix(loss = train_loss.avg, accuracy = train_acc.compute().item() * 100)\n",
    "            \n",
    "    return model, train_loss.avg, train_acc.compute().item()"
   ]
  },
  {
   "cell_type": "code",
   "execution_count": 38,
   "metadata": {},
   "outputs": [],
   "source": [
    "def validation(model, valid_loaedr, loss_func):\n",
    "    model.eval()\n",
    "\n",
    "    valid_loss=AverageMeter()\n",
    "    valid_acc=Accuracy(task='binary').to(device)\n",
    "\n",
    "    for x, y in valid_loaedr:\n",
    "\n",
    "        x=x.to(device)\n",
    "        y=y.to(device)\n",
    "\n",
    "        yp=model(x)\n",
    "        loss=loss_func(yp.squeeze(), y.type(tc.float))\n",
    "\n",
    "        valid_loss.update(loss.item())\n",
    "        valid_acc(yp.squeeze(), y)\n",
    "\n",
    "    print(f'valid loss={valid_loss.avg:.4}, accuracy={valid_acc.compute() * 100 :.4}')\n",
    "    print()\n",
    "\n",
    "    return valid_loss.avg, valid_acc.compute().item()"
   ]
  },
  {
   "cell_type": "code",
   "execution_count": 39,
   "metadata": {},
   "outputs": [],
   "source": [
    "model = CNNModel([4, 8, 16, 32, 128], [3, 3, 3, 3, 3],1).to(device)"
   ]
  },
  {
   "cell_type": "code",
   "execution_count": 40,
   "metadata": {},
   "outputs": [],
   "source": [
    "optimizer = optim.Adam(model.parameters(), lr = 0.01)\n",
    "loss_func = nn.BCEWithLogitsLoss()"
   ]
  },
  {
   "cell_type": "code",
   "execution_count": 41,
   "metadata": {},
   "outputs": [],
   "source": [
    "best_loss = tc.inf \n",
    "best_model1 = [0]"
   ]
  },
  {
   "cell_type": "code",
   "execution_count": 42,
   "metadata": {},
   "outputs": [
    {
     "name": "stderr",
     "output_type": "stream",
     "text": [
      "Epoch=0: 100%|██████████| 4/4 [00:04<00:00,  1.14s/batch, accuracy=21.9, loss=0.872]\n"
     ]
    },
    {
     "name": "stdout",
     "output_type": "stream",
     "text": [
      "valid loss=0.8062, accuracy=38.1\n",
      "\n",
      "model saved!\n"
     ]
    },
    {
     "name": "stderr",
     "output_type": "stream",
     "text": [
      "Epoch=1: 100%|██████████| 4/4 [00:04<00:00,  1.10s/batch, accuracy=49.3, loss=0.863]\n"
     ]
    },
    {
     "name": "stdout",
     "output_type": "stream",
     "text": [
      "valid loss=0.7659, accuracy=61.9\n",
      "\n",
      "model saved!\n"
     ]
    },
    {
     "name": "stderr",
     "output_type": "stream",
     "text": [
      "Epoch=2: 100%|██████████| 4/4 [00:04<00:00,  1.11s/batch, accuracy=76.7, loss=0.824]\n"
     ]
    },
    {
     "name": "stdout",
     "output_type": "stream",
     "text": [
      "valid loss=0.7576, accuracy=61.9\n",
      "\n",
      "model saved!\n"
     ]
    },
    {
     "name": "stderr",
     "output_type": "stream",
     "text": [
      "Epoch=3: 100%|██████████| 4/4 [00:04<00:00,  1.12s/batch, accuracy=76.7, loss=0.809]\n"
     ]
    },
    {
     "name": "stdout",
     "output_type": "stream",
     "text": [
      "valid loss=0.7496, accuracy=61.9\n",
      "\n",
      "model saved!\n"
     ]
    },
    {
     "name": "stderr",
     "output_type": "stream",
     "text": [
      "Epoch=4: 100%|██████████| 4/4 [00:04<00:00,  1.03s/batch, accuracy=76.7, loss=0.8]  \n"
     ]
    },
    {
     "name": "stdout",
     "output_type": "stream",
     "text": [
      "valid loss=0.742, accuracy=61.9\n",
      "\n",
      "model saved!\n"
     ]
    },
    {
     "name": "stderr",
     "output_type": "stream",
     "text": [
      "Epoch=5: 100%|██████████| 4/4 [00:04<00:00,  1.01s/batch, accuracy=76.7, loss=0.785]\n"
     ]
    },
    {
     "name": "stdout",
     "output_type": "stream",
     "text": [
      "valid loss=0.7348, accuracy=61.9\n",
      "\n",
      "model saved!\n"
     ]
    },
    {
     "name": "stderr",
     "output_type": "stream",
     "text": [
      "Epoch=6: 100%|██████████| 4/4 [00:03<00:00,  1.24batch/s, accuracy=76.7, loss=0.769]\n"
     ]
    },
    {
     "name": "stdout",
     "output_type": "stream",
     "text": [
      "valid loss=0.7279, accuracy=61.9\n",
      "\n",
      "model saved!\n"
     ]
    },
    {
     "name": "stderr",
     "output_type": "stream",
     "text": [
      "Epoch=7: 100%|██████████| 4/4 [00:03<00:00,  1.24batch/s, accuracy=76.7, loss=0.758]\n"
     ]
    },
    {
     "name": "stdout",
     "output_type": "stream",
     "text": [
      "valid loss=0.7217, accuracy=61.9\n",
      "\n",
      "model saved!\n"
     ]
    },
    {
     "name": "stderr",
     "output_type": "stream",
     "text": [
      "Epoch=8: 100%|██████████| 4/4 [00:03<00:00,  1.23batch/s, accuracy=76.7, loss=0.747]\n"
     ]
    },
    {
     "name": "stdout",
     "output_type": "stream",
     "text": [
      "valid loss=0.7157, accuracy=61.9\n",
      "\n",
      "model saved!\n"
     ]
    },
    {
     "name": "stderr",
     "output_type": "stream",
     "text": [
      "Epoch=9: 100%|██████████| 4/4 [00:03<00:00,  1.21batch/s, accuracy=76.7, loss=0.736]\n"
     ]
    },
    {
     "name": "stdout",
     "output_type": "stream",
     "text": [
      "valid loss=0.7101, accuracy=61.9\n",
      "\n",
      "model saved!\n"
     ]
    },
    {
     "name": "stderr",
     "output_type": "stream",
     "text": [
      "Epoch=10: 100%|██████████| 4/4 [00:03<00:00,  1.24batch/s, accuracy=76.7, loss=0.724]\n"
     ]
    },
    {
     "name": "stdout",
     "output_type": "stream",
     "text": [
      "valid loss=0.705, accuracy=61.9\n",
      "\n",
      "model saved!\n"
     ]
    },
    {
     "name": "stderr",
     "output_type": "stream",
     "text": [
      "Epoch=11: 100%|██████████| 4/4 [00:03<00:00,  1.17batch/s, accuracy=76.7, loss=0.715]\n"
     ]
    },
    {
     "name": "stdout",
     "output_type": "stream",
     "text": [
      "valid loss=0.7004, accuracy=61.9\n",
      "\n",
      "model saved!\n"
     ]
    },
    {
     "name": "stderr",
     "output_type": "stream",
     "text": [
      "Epoch=12: 100%|██████████| 4/4 [00:03<00:00,  1.24batch/s, accuracy=76.7, loss=0.706]\n"
     ]
    },
    {
     "name": "stdout",
     "output_type": "stream",
     "text": [
      "valid loss=0.6959, accuracy=61.9\n",
      "\n",
      "model saved!\n"
     ]
    },
    {
     "name": "stderr",
     "output_type": "stream",
     "text": [
      "Epoch=13: 100%|██████████| 4/4 [00:03<00:00,  1.24batch/s, accuracy=76.7, loss=0.696]\n"
     ]
    },
    {
     "name": "stdout",
     "output_type": "stream",
     "text": [
      "valid loss=0.6919, accuracy=61.9\n",
      "\n",
      "model saved!\n"
     ]
    },
    {
     "name": "stderr",
     "output_type": "stream",
     "text": [
      "Epoch=14: 100%|██████████| 4/4 [00:03<00:00,  1.23batch/s, accuracy=76.7, loss=0.687]\n"
     ]
    },
    {
     "name": "stdout",
     "output_type": "stream",
     "text": [
      "valid loss=0.6882, accuracy=61.9\n",
      "\n",
      "model saved!\n"
     ]
    },
    {
     "name": "stderr",
     "output_type": "stream",
     "text": [
      "Epoch=15: 100%|██████████| 4/4 [00:03<00:00,  1.23batch/s, accuracy=76.7, loss=0.679]\n"
     ]
    },
    {
     "name": "stdout",
     "output_type": "stream",
     "text": [
      "valid loss=0.6849, accuracy=61.9\n",
      "\n",
      "model saved!\n"
     ]
    },
    {
     "name": "stderr",
     "output_type": "stream",
     "text": [
      "Epoch=16: 100%|██████████| 4/4 [00:03<00:00,  1.25batch/s, accuracy=76.7, loss=0.67] \n"
     ]
    },
    {
     "name": "stdout",
     "output_type": "stream",
     "text": [
      "valid loss=0.6819, accuracy=61.9\n",
      "\n",
      "model saved!\n"
     ]
    },
    {
     "name": "stderr",
     "output_type": "stream",
     "text": [
      "Epoch=17: 100%|██████████| 4/4 [00:03<00:00,  1.19batch/s, accuracy=76.7, loss=0.662]\n"
     ]
    },
    {
     "name": "stdout",
     "output_type": "stream",
     "text": [
      "valid loss=0.6791, accuracy=61.9\n",
      "\n",
      "model saved!\n"
     ]
    },
    {
     "name": "stderr",
     "output_type": "stream",
     "text": [
      "Epoch=18: 100%|██████████| 4/4 [00:03<00:00,  1.23batch/s, accuracy=76.7, loss=0.657]\n"
     ]
    },
    {
     "name": "stdout",
     "output_type": "stream",
     "text": [
      "valid loss=0.6766, accuracy=61.9\n",
      "\n",
      "model saved!\n"
     ]
    },
    {
     "name": "stderr",
     "output_type": "stream",
     "text": [
      "Epoch=19: 100%|██████████| 4/4 [00:03<00:00,  1.25batch/s, accuracy=76.7, loss=0.649]\n"
     ]
    },
    {
     "name": "stdout",
     "output_type": "stream",
     "text": [
      "valid loss=0.6744, accuracy=61.9\n",
      "\n",
      "model saved!\n"
     ]
    },
    {
     "name": "stderr",
     "output_type": "stream",
     "text": [
      "Epoch=20: 100%|██████████| 4/4 [00:03<00:00,  1.24batch/s, accuracy=76.7, loss=0.642]\n"
     ]
    },
    {
     "name": "stdout",
     "output_type": "stream",
     "text": [
      "valid loss=0.6725, accuracy=61.9\n",
      "\n",
      "model saved!\n"
     ]
    },
    {
     "name": "stderr",
     "output_type": "stream",
     "text": [
      "Epoch=21: 100%|██████████| 4/4 [00:03<00:00,  1.25batch/s, accuracy=76.7, loss=0.637]\n"
     ]
    },
    {
     "name": "stdout",
     "output_type": "stream",
     "text": [
      "valid loss=0.6708, accuracy=61.9\n",
      "\n",
      "model saved!\n"
     ]
    },
    {
     "name": "stderr",
     "output_type": "stream",
     "text": [
      "Epoch=22: 100%|██████████| 4/4 [00:03<00:00,  1.21batch/s, accuracy=76.7, loss=0.635]\n"
     ]
    },
    {
     "name": "stdout",
     "output_type": "stream",
     "text": [
      "valid loss=0.6693, accuracy=61.9\n",
      "\n",
      "model saved!\n"
     ]
    },
    {
     "name": "stderr",
     "output_type": "stream",
     "text": [
      "Epoch=23: 100%|██████████| 4/4 [00:03<00:00,  1.26batch/s, accuracy=76.7, loss=0.618]\n"
     ]
    },
    {
     "name": "stdout",
     "output_type": "stream",
     "text": [
      "valid loss=0.6681, accuracy=61.9\n",
      "\n",
      "model saved!\n"
     ]
    },
    {
     "name": "stderr",
     "output_type": "stream",
     "text": [
      "Epoch=24: 100%|██████████| 4/4 [00:03<00:00,  1.24batch/s, accuracy=76.7, loss=0.624]\n"
     ]
    },
    {
     "name": "stdout",
     "output_type": "stream",
     "text": [
      "valid loss=0.6671, accuracy=61.9\n",
      "\n",
      "model saved!\n"
     ]
    }
   ],
   "source": [
    "N = 25\n",
    "for i in range(N):\n",
    "\n",
    "  model, train_loss, train_acc = train_one_epoch(model, train_loader, loss_func, optimizer, i)\n",
    "  valid_loss, valid_acc = validation(model,valid_loader,loss_func)\n",
    "\n",
    "  if valid_loss<best_loss:\n",
    "    best_loss = valid_loss\n",
    "    best_model1[0] = model\n",
    "    print('model saved!')"
   ]
  },
  {
   "cell_type": "code",
   "execution_count": 43,
   "metadata": {},
   "outputs": [],
   "source": [
    "model = CNNModel([8, 16, 32, 64, 128], [3, 3, 3, 3, 3],1).to(device)"
   ]
  },
  {
   "cell_type": "code",
   "execution_count": 44,
   "metadata": {},
   "outputs": [],
   "source": [
    "optimizer = optim.Adam(model.parameters(), lr = 0.015)\n",
    "loss_func = nn.BCEWithLogitsLoss()"
   ]
  },
  {
   "cell_type": "code",
   "execution_count": 45,
   "metadata": {},
   "outputs": [],
   "source": [
    "best_loss = tc.inf \n",
    "best_model2 = [0]"
   ]
  },
  {
   "cell_type": "code",
   "execution_count": 46,
   "metadata": {},
   "outputs": [
    {
     "name": "stderr",
     "output_type": "stream",
     "text": [
      "Epoch=0: 100%|██████████| 4/4 [00:05<00:00,  1.50s/batch, accuracy=75.3, loss=0.612]\n"
     ]
    },
    {
     "name": "stdout",
     "output_type": "stream",
     "text": [
      "valid loss=0.6545, accuracy=61.9\n",
      "\n",
      "model saved!\n"
     ]
    },
    {
     "name": "stderr",
     "output_type": "stream",
     "text": [
      "Epoch=1: 100%|██████████| 4/4 [00:05<00:00,  1.32s/batch, accuracy=75.3, loss=0.612]\n"
     ]
    },
    {
     "name": "stdout",
     "output_type": "stream",
     "text": [
      "valid loss=0.6646, accuracy=61.9\n",
      "\n"
     ]
    },
    {
     "name": "stderr",
     "output_type": "stream",
     "text": [
      "Epoch=2: 100%|██████████| 4/4 [00:04<00:00,  1.13s/batch, accuracy=76.7, loss=0.578]\n"
     ]
    },
    {
     "name": "stdout",
     "output_type": "stream",
     "text": [
      "valid loss=0.6653, accuracy=61.9\n",
      "\n"
     ]
    },
    {
     "name": "stderr",
     "output_type": "stream",
     "text": [
      "Epoch=3: 100%|██████████| 4/4 [00:04<00:00,  1.14s/batch, accuracy=76.7, loss=0.583]\n"
     ]
    },
    {
     "name": "stdout",
     "output_type": "stream",
     "text": [
      "valid loss=0.6667, accuracy=61.9\n",
      "\n"
     ]
    },
    {
     "name": "stderr",
     "output_type": "stream",
     "text": [
      "Epoch=4: 100%|██████████| 4/4 [00:04<00:00,  1.13s/batch, accuracy=76.7, loss=0.582]\n"
     ]
    },
    {
     "name": "stdout",
     "output_type": "stream",
     "text": [
      "valid loss=0.6685, accuracy=61.9\n",
      "\n"
     ]
    },
    {
     "name": "stderr",
     "output_type": "stream",
     "text": [
      "Epoch=5: 100%|██████████| 4/4 [00:04<00:00,  1.13s/batch, accuracy=76.7, loss=0.567]\n"
     ]
    },
    {
     "name": "stdout",
     "output_type": "stream",
     "text": [
      "valid loss=0.6705, accuracy=61.9\n",
      "\n"
     ]
    },
    {
     "name": "stderr",
     "output_type": "stream",
     "text": [
      "Epoch=6: 100%|██████████| 4/4 [00:04<00:00,  1.12s/batch, accuracy=76.7, loss=0.569]\n"
     ]
    },
    {
     "name": "stdout",
     "output_type": "stream",
     "text": [
      "valid loss=0.673, accuracy=61.9\n",
      "\n"
     ]
    },
    {
     "name": "stderr",
     "output_type": "stream",
     "text": [
      "Epoch=7: 100%|██████████| 4/4 [00:04<00:00,  1.16s/batch, accuracy=76.7, loss=0.554]\n"
     ]
    },
    {
     "name": "stdout",
     "output_type": "stream",
     "text": [
      "valid loss=0.6755, accuracy=61.9\n",
      "\n"
     ]
    },
    {
     "name": "stderr",
     "output_type": "stream",
     "text": [
      "Epoch=8: 100%|██████████| 4/4 [00:04<00:00,  1.15s/batch, accuracy=76.7, loss=0.557]\n"
     ]
    },
    {
     "name": "stdout",
     "output_type": "stream",
     "text": [
      "valid loss=0.6784, accuracy=61.9\n",
      "\n"
     ]
    },
    {
     "name": "stderr",
     "output_type": "stream",
     "text": [
      "Epoch=9: 100%|██████████| 4/4 [00:04<00:00,  1.14s/batch, accuracy=76.7, loss=0.542]\n"
     ]
    },
    {
     "name": "stdout",
     "output_type": "stream",
     "text": [
      "valid loss=0.6811, accuracy=61.9\n",
      "\n"
     ]
    },
    {
     "name": "stderr",
     "output_type": "stream",
     "text": [
      "Epoch=10: 100%|██████████| 4/4 [00:04<00:00,  1.14s/batch, accuracy=76.7, loss=0.552]\n"
     ]
    },
    {
     "name": "stdout",
     "output_type": "stream",
     "text": [
      "valid loss=0.6843, accuracy=61.9\n",
      "\n"
     ]
    },
    {
     "name": "stderr",
     "output_type": "stream",
     "text": [
      "Epoch=11: 100%|██████████| 4/4 [00:04<00:00,  1.15s/batch, accuracy=76.7, loss=0.544]\n"
     ]
    },
    {
     "name": "stdout",
     "output_type": "stream",
     "text": [
      "valid loss=0.6874, accuracy=61.9\n",
      "\n"
     ]
    },
    {
     "name": "stderr",
     "output_type": "stream",
     "text": [
      "Epoch=12: 100%|██████████| 4/4 [00:04<00:00,  1.13s/batch, accuracy=76.7, loss=0.548]\n"
     ]
    },
    {
     "name": "stdout",
     "output_type": "stream",
     "text": [
      "valid loss=0.6906, accuracy=61.9\n",
      "\n"
     ]
    },
    {
     "name": "stderr",
     "output_type": "stream",
     "text": [
      "Epoch=13: 100%|██████████| 4/4 [00:04<00:00,  1.14s/batch, accuracy=76.7, loss=0.54]\n"
     ]
    },
    {
     "name": "stdout",
     "output_type": "stream",
     "text": [
      "valid loss=0.6934, accuracy=61.9\n",
      "\n"
     ]
    },
    {
     "name": "stderr",
     "output_type": "stream",
     "text": [
      "Epoch=14: 100%|██████████| 4/4 [00:04<00:00,  1.12s/batch, accuracy=76.7, loss=0.532]\n"
     ]
    },
    {
     "name": "stdout",
     "output_type": "stream",
     "text": [
      "valid loss=0.6962, accuracy=61.9\n",
      "\n"
     ]
    },
    {
     "name": "stderr",
     "output_type": "stream",
     "text": [
      "Epoch=15: 100%|██████████| 4/4 [00:04<00:00,  1.16s/batch, accuracy=76.7, loss=0.538]\n"
     ]
    },
    {
     "name": "stdout",
     "output_type": "stream",
     "text": [
      "valid loss=0.6992, accuracy=61.9\n",
      "\n"
     ]
    },
    {
     "name": "stderr",
     "output_type": "stream",
     "text": [
      "Epoch=16: 100%|██████████| 4/4 [00:04<00:00,  1.14s/batch, accuracy=76.7, loss=0.53] \n"
     ]
    },
    {
     "name": "stdout",
     "output_type": "stream",
     "text": [
      "valid loss=0.7019, accuracy=61.9\n",
      "\n"
     ]
    },
    {
     "name": "stderr",
     "output_type": "stream",
     "text": [
      "Epoch=17: 100%|██████████| 4/4 [00:04<00:00,  1.14s/batch, accuracy=76.7, loss=0.536]\n"
     ]
    },
    {
     "name": "stdout",
     "output_type": "stream",
     "text": [
      "valid loss=0.7042, accuracy=61.9\n",
      "\n"
     ]
    },
    {
     "name": "stderr",
     "output_type": "stream",
     "text": [
      "Epoch=18: 100%|██████████| 4/4 [00:04<00:00,  1.13s/batch, accuracy=76.7, loss=0.536]\n"
     ]
    },
    {
     "name": "stdout",
     "output_type": "stream",
     "text": [
      "valid loss=0.7065, accuracy=61.9\n",
      "\n"
     ]
    },
    {
     "name": "stderr",
     "output_type": "stream",
     "text": [
      "Epoch=19: 100%|██████████| 4/4 [00:04<00:00,  1.13s/batch, accuracy=76.7, loss=0.543]\n"
     ]
    },
    {
     "name": "stdout",
     "output_type": "stream",
     "text": [
      "valid loss=0.7087, accuracy=61.9\n",
      "\n"
     ]
    },
    {
     "name": "stderr",
     "output_type": "stream",
     "text": [
      "Epoch=20: 100%|██████████| 4/4 [00:04<00:00,  1.11s/batch, accuracy=76.7, loss=0.543]\n"
     ]
    },
    {
     "name": "stdout",
     "output_type": "stream",
     "text": [
      "valid loss=0.7108, accuracy=61.9\n",
      "\n"
     ]
    },
    {
     "name": "stderr",
     "output_type": "stream",
     "text": [
      "Epoch=21: 100%|██████████| 4/4 [00:04<00:00,  1.19s/batch, accuracy=76.7, loss=0.535]\n"
     ]
    },
    {
     "name": "stdout",
     "output_type": "stream",
     "text": [
      "valid loss=0.7119, accuracy=61.9\n",
      "\n"
     ]
    },
    {
     "name": "stderr",
     "output_type": "stream",
     "text": [
      "Epoch=22: 100%|██████████| 4/4 [00:04<00:00,  1.18s/batch, accuracy=76.7, loss=0.543]\n"
     ]
    },
    {
     "name": "stdout",
     "output_type": "stream",
     "text": [
      "valid loss=0.7134, accuracy=61.9\n",
      "\n"
     ]
    },
    {
     "name": "stderr",
     "output_type": "stream",
     "text": [
      "Epoch=23: 100%|██████████| 4/4 [00:04<00:00,  1.14s/batch, accuracy=76.7, loss=0.543]\n"
     ]
    },
    {
     "name": "stdout",
     "output_type": "stream",
     "text": [
      "valid loss=0.7146, accuracy=61.9\n",
      "\n"
     ]
    },
    {
     "name": "stderr",
     "output_type": "stream",
     "text": [
      "Epoch=24: 100%|██████████| 4/4 [00:04<00:00,  1.16s/batch, accuracy=76.7, loss=0.543]\n"
     ]
    },
    {
     "name": "stdout",
     "output_type": "stream",
     "text": [
      "valid loss=0.7158, accuracy=61.9\n",
      "\n"
     ]
    },
    {
     "name": "stderr",
     "output_type": "stream",
     "text": [
      "Epoch=25: 100%|██████████| 4/4 [00:04<00:00,  1.17s/batch, accuracy=76.7, loss=0.527]\n"
     ]
    },
    {
     "name": "stdout",
     "output_type": "stream",
     "text": [
      "valid loss=0.7163, accuracy=61.9\n",
      "\n"
     ]
    },
    {
     "name": "stderr",
     "output_type": "stream",
     "text": [
      "Epoch=26: 100%|██████████| 4/4 [00:04<00:00,  1.13s/batch, accuracy=76.7, loss=0.543]\n"
     ]
    },
    {
     "name": "stdout",
     "output_type": "stream",
     "text": [
      "valid loss=0.7172, accuracy=61.9\n",
      "\n"
     ]
    },
    {
     "name": "stderr",
     "output_type": "stream",
     "text": [
      "Epoch=27: 100%|██████████| 4/4 [00:04<00:00,  1.12s/batch, accuracy=76.7, loss=0.559]\n"
     ]
    },
    {
     "name": "stdout",
     "output_type": "stream",
     "text": [
      "valid loss=0.7183, accuracy=61.9\n",
      "\n"
     ]
    },
    {
     "name": "stderr",
     "output_type": "stream",
     "text": [
      "Epoch=28: 100%|██████████| 4/4 [00:04<00:00,  1.14s/batch, accuracy=76.7, loss=0.535]\n"
     ]
    },
    {
     "name": "stdout",
     "output_type": "stream",
     "text": [
      "valid loss=0.7184, accuracy=61.9\n",
      "\n"
     ]
    },
    {
     "name": "stderr",
     "output_type": "stream",
     "text": [
      "Epoch=29: 100%|██████████| 4/4 [00:04<00:00,  1.13s/batch, accuracy=76.7, loss=0.543]\n"
     ]
    },
    {
     "name": "stdout",
     "output_type": "stream",
     "text": [
      "valid loss=0.7189, accuracy=61.9\n",
      "\n"
     ]
    }
   ],
   "source": [
    "N = 30\n",
    "for i in range(N):\n",
    "\n",
    "  model, train_loss, train_acc = train_one_epoch(model, train_loader, loss_func, optimizer, i)\n",
    "  valid_loss, valid_acc = validation(model,valid_loader,loss_func)\n",
    "\n",
    "  if valid_loss<best_loss:\n",
    "    best_loss = valid_loss\n",
    "    best_model2[0] = model\n",
    "    print('model saved!')"
   ]
  },
  {
   "cell_type": "code",
   "execution_count": 47,
   "metadata": {},
   "outputs": [],
   "source": [
    "model = TransformerModel(512, 4, 4, 0, 2048, 0.3, nn.ReLU(), 1).to(device)"
   ]
  },
  {
   "cell_type": "code",
   "execution_count": 48,
   "metadata": {},
   "outputs": [],
   "source": [
    "optimizer = optim.Adam(model.parameters(), lr = 0.01)\n",
    "loss_func = nn.BCEWithLogitsLoss()"
   ]
  },
  {
   "cell_type": "code",
   "execution_count": 49,
   "metadata": {},
   "outputs": [],
   "source": [
    "best_loss = tc.inf \n",
    "best_model3 = [0]"
   ]
  },
  {
   "cell_type": "code",
   "execution_count": 50,
   "metadata": {},
   "outputs": [
    {
     "name": "stderr",
     "output_type": "stream",
     "text": [
      "Epoch=0: 100%|██████████| 4/4 [00:18<00:00,  4.57s/batch, accuracy=76.7, loss=1.13]\n"
     ]
    },
    {
     "name": "stdout",
     "output_type": "stream",
     "text": [
      "valid loss=3.219, accuracy=38.1\n",
      "\n",
      "model saved!\n"
     ]
    },
    {
     "name": "stderr",
     "output_type": "stream",
     "text": [
      "Epoch=1: 100%|██████████| 4/4 [00:16<00:00,  4.02s/batch, accuracy=65.8, loss=1.28]\n"
     ]
    },
    {
     "name": "stdout",
     "output_type": "stream",
     "text": [
      "valid loss=0.9838, accuracy=61.9\n",
      "\n",
      "model saved!\n"
     ]
    },
    {
     "name": "stderr",
     "output_type": "stream",
     "text": [
      "Epoch=2: 100%|██████████| 4/4 [00:18<00:00,  4.55s/batch, accuracy=76.7, loss=0.613]\n"
     ]
    },
    {
     "name": "stdout",
     "output_type": "stream",
     "text": [
      "valid loss=0.7526, accuracy=61.9\n",
      "\n",
      "model saved!\n"
     ]
    },
    {
     "name": "stderr",
     "output_type": "stream",
     "text": [
      "Epoch=3: 100%|██████████| 4/4 [00:19<00:00,  4.87s/batch, accuracy=76.7, loss=0.588]\n"
     ]
    },
    {
     "name": "stdout",
     "output_type": "stream",
     "text": [
      "valid loss=1.172, accuracy=61.9\n",
      "\n"
     ]
    },
    {
     "name": "stderr",
     "output_type": "stream",
     "text": [
      "Epoch=4: 100%|██████████| 4/4 [00:19<00:00,  4.95s/batch, accuracy=76.7, loss=0.77] \n"
     ]
    },
    {
     "name": "stdout",
     "output_type": "stream",
     "text": [
      "valid loss=0.9455, accuracy=61.9\n",
      "\n"
     ]
    },
    {
     "name": "stderr",
     "output_type": "stream",
     "text": [
      "Epoch=5: 100%|██████████| 4/4 [00:19<00:00,  4.85s/batch, accuracy=76.7, loss=0.647]\n"
     ]
    },
    {
     "name": "stdout",
     "output_type": "stream",
     "text": [
      "valid loss=0.6648, accuracy=61.9\n",
      "\n",
      "model saved!\n"
     ]
    },
    {
     "name": "stderr",
     "output_type": "stream",
     "text": [
      "Epoch=6: 100%|██████████| 4/4 [00:19<00:00,  4.84s/batch, accuracy=76.7, loss=0.572]\n"
     ]
    },
    {
     "name": "stdout",
     "output_type": "stream",
     "text": [
      "valid loss=0.9478, accuracy=61.9\n",
      "\n"
     ]
    },
    {
     "name": "stderr",
     "output_type": "stream",
     "text": [
      "Epoch=7: 100%|██████████| 4/4 [00:19<00:00,  4.89s/batch, accuracy=76.7, loss=0.573]\n"
     ]
    },
    {
     "name": "stdout",
     "output_type": "stream",
     "text": [
      "valid loss=0.6645, accuracy=61.9\n",
      "\n",
      "model saved!\n"
     ]
    },
    {
     "name": "stderr",
     "output_type": "stream",
     "text": [
      "Epoch=8: 100%|██████████| 4/4 [00:22<00:00,  5.63s/batch, accuracy=76.7, loss=0.593]\n"
     ]
    },
    {
     "name": "stdout",
     "output_type": "stream",
     "text": [
      "valid loss=0.8002, accuracy=61.9\n",
      "\n"
     ]
    },
    {
     "name": "stderr",
     "output_type": "stream",
     "text": [
      "Epoch=9: 100%|██████████| 4/4 [00:22<00:00,  5.73s/batch, accuracy=76.7, loss=0.574]\n"
     ]
    },
    {
     "name": "stdout",
     "output_type": "stream",
     "text": [
      "valid loss=0.6943, accuracy=61.9\n",
      "\n"
     ]
    },
    {
     "name": "stderr",
     "output_type": "stream",
     "text": [
      "Epoch=10: 100%|██████████| 4/4 [00:23<00:00,  5.79s/batch, accuracy=76.7, loss=0.548]\n"
     ]
    },
    {
     "name": "stdout",
     "output_type": "stream",
     "text": [
      "valid loss=0.7116, accuracy=61.9\n",
      "\n"
     ]
    },
    {
     "name": "stderr",
     "output_type": "stream",
     "text": [
      "Epoch=11: 100%|██████████| 4/4 [00:22<00:00,  5.54s/batch, accuracy=76.7, loss=0.57] \n"
     ]
    },
    {
     "name": "stdout",
     "output_type": "stream",
     "text": [
      "valid loss=0.8167, accuracy=61.9\n",
      "\n"
     ]
    },
    {
     "name": "stderr",
     "output_type": "stream",
     "text": [
      "Epoch=12: 100%|██████████| 4/4 [00:22<00:00,  5.57s/batch, accuracy=76.7, loss=0.578]\n"
     ]
    },
    {
     "name": "stdout",
     "output_type": "stream",
     "text": [
      "valid loss=0.7315, accuracy=61.9\n",
      "\n"
     ]
    },
    {
     "name": "stderr",
     "output_type": "stream",
     "text": [
      "Epoch=13: 100%|██████████| 4/4 [00:21<00:00,  5.48s/batch, accuracy=76.7, loss=0.577]\n"
     ]
    },
    {
     "name": "stdout",
     "output_type": "stream",
     "text": [
      "valid loss=0.6981, accuracy=61.9\n",
      "\n"
     ]
    },
    {
     "name": "stderr",
     "output_type": "stream",
     "text": [
      "Epoch=14: 100%|██████████| 4/4 [00:21<00:00,  5.29s/batch, accuracy=76.7, loss=0.645]\n"
     ]
    },
    {
     "name": "stdout",
     "output_type": "stream",
     "text": [
      "valid loss=0.7997, accuracy=61.9\n",
      "\n"
     ]
    },
    {
     "name": "stderr",
     "output_type": "stream",
     "text": [
      "Epoch=15: 100%|██████████| 4/4 [00:22<00:00,  5.73s/batch, accuracy=76.7, loss=0.633]\n"
     ]
    },
    {
     "name": "stdout",
     "output_type": "stream",
     "text": [
      "valid loss=0.6894, accuracy=61.9\n",
      "\n"
     ]
    },
    {
     "name": "stderr",
     "output_type": "stream",
     "text": [
      "Epoch=16: 100%|██████████| 4/4 [00:22<00:00,  5.55s/batch, accuracy=76.7, loss=0.685]\n"
     ]
    },
    {
     "name": "stdout",
     "output_type": "stream",
     "text": [
      "valid loss=1.022, accuracy=61.9\n",
      "\n"
     ]
    },
    {
     "name": "stderr",
     "output_type": "stream",
     "text": [
      "Epoch=17: 100%|██████████| 4/4 [00:22<00:00,  5.52s/batch, accuracy=76.7, loss=0.59] \n"
     ]
    },
    {
     "name": "stdout",
     "output_type": "stream",
     "text": [
      "valid loss=0.6812, accuracy=61.9\n",
      "\n"
     ]
    },
    {
     "name": "stderr",
     "output_type": "stream",
     "text": [
      "Epoch=18: 100%|██████████| 4/4 [00:24<00:00,  6.17s/batch, accuracy=76.7, loss=0.627]\n"
     ]
    },
    {
     "name": "stdout",
     "output_type": "stream",
     "text": [
      "valid loss=0.862, accuracy=61.9\n",
      "\n"
     ]
    },
    {
     "name": "stderr",
     "output_type": "stream",
     "text": [
      "Epoch=19: 100%|██████████| 4/4 [00:21<00:00,  5.32s/batch, accuracy=76.7, loss=0.594]\n"
     ]
    },
    {
     "name": "stdout",
     "output_type": "stream",
     "text": [
      "valid loss=0.6789, accuracy=61.9\n",
      "\n"
     ]
    },
    {
     "name": "stderr",
     "output_type": "stream",
     "text": [
      "Epoch=20: 100%|██████████| 4/4 [00:24<00:00,  6.09s/batch, accuracy=76.7, loss=0.63] \n"
     ]
    },
    {
     "name": "stdout",
     "output_type": "stream",
     "text": [
      "valid loss=0.7176, accuracy=61.9\n",
      "\n"
     ]
    },
    {
     "name": "stderr",
     "output_type": "stream",
     "text": [
      "Epoch=21: 100%|██████████| 4/4 [00:21<00:00,  5.34s/batch, accuracy=76.7, loss=0.587]\n"
     ]
    },
    {
     "name": "stdout",
     "output_type": "stream",
     "text": [
      "valid loss=0.8726, accuracy=61.9\n",
      "\n"
     ]
    },
    {
     "name": "stderr",
     "output_type": "stream",
     "text": [
      "Epoch=22: 100%|██████████| 4/4 [00:21<00:00,  5.45s/batch, accuracy=76.7, loss=0.552]\n"
     ]
    },
    {
     "name": "stdout",
     "output_type": "stream",
     "text": [
      "valid loss=0.6647, accuracy=61.9\n",
      "\n"
     ]
    },
    {
     "name": "stderr",
     "output_type": "stream",
     "text": [
      "Epoch=23: 100%|██████████| 4/4 [00:22<00:00,  5.69s/batch, accuracy=76.7, loss=0.565]\n"
     ]
    },
    {
     "name": "stdout",
     "output_type": "stream",
     "text": [
      "valid loss=0.7319, accuracy=61.9\n",
      "\n"
     ]
    },
    {
     "name": "stderr",
     "output_type": "stream",
     "text": [
      "Epoch=24: 100%|██████████| 4/4 [00:23<00:00,  5.95s/batch, accuracy=76.7, loss=0.662]\n"
     ]
    },
    {
     "name": "stdout",
     "output_type": "stream",
     "text": [
      "valid loss=0.8893, accuracy=61.9\n",
      "\n"
     ]
    },
    {
     "name": "stderr",
     "output_type": "stream",
     "text": [
      "Epoch=25: 100%|██████████| 4/4 [00:23<00:00,  5.99s/batch, accuracy=76.7, loss=0.564]\n"
     ]
    },
    {
     "name": "stdout",
     "output_type": "stream",
     "text": [
      "valid loss=0.6673, accuracy=61.9\n",
      "\n"
     ]
    },
    {
     "name": "stderr",
     "output_type": "stream",
     "text": [
      "Epoch=26: 100%|██████████| 4/4 [00:21<00:00,  5.30s/batch, accuracy=76.7, loss=0.597]\n"
     ]
    },
    {
     "name": "stdout",
     "output_type": "stream",
     "text": [
      "valid loss=0.782, accuracy=61.9\n",
      "\n"
     ]
    },
    {
     "name": "stderr",
     "output_type": "stream",
     "text": [
      "Epoch=27: 100%|██████████| 4/4 [00:25<00:00,  6.39s/batch, accuracy=76.7, loss=0.552]\n"
     ]
    },
    {
     "name": "stdout",
     "output_type": "stream",
     "text": [
      "valid loss=0.7407, accuracy=61.9\n",
      "\n"
     ]
    },
    {
     "name": "stderr",
     "output_type": "stream",
     "text": [
      "Epoch=28: 100%|██████████| 4/4 [00:22<00:00,  5.57s/batch, accuracy=76.7, loss=0.558]\n"
     ]
    },
    {
     "name": "stdout",
     "output_type": "stream",
     "text": [
      "valid loss=0.6874, accuracy=61.9\n",
      "\n"
     ]
    },
    {
     "name": "stderr",
     "output_type": "stream",
     "text": [
      "Epoch=29: 100%|██████████| 4/4 [00:21<00:00,  5.32s/batch, accuracy=76.7, loss=0.577]\n"
     ]
    },
    {
     "name": "stdout",
     "output_type": "stream",
     "text": [
      "valid loss=0.6933, accuracy=61.9\n",
      "\n"
     ]
    }
   ],
   "source": [
    "N = 30\n",
    "for i in range(N):\n",
    "\n",
    "  model, train_loss, train_acc = train_one_epoch(model, train_loader, loss_func, optimizer, i)\n",
    "  valid_loss, valid_acc = validation(model,valid_loader,loss_func)\n",
    "\n",
    "  if valid_loss<best_loss:\n",
    "    best_loss = valid_loss\n",
    "    best_model3[0] = model\n",
    "    print('model saved!')"
   ]
  }
 ],
 "metadata": {
  "kernelspec": {
   "display_name": "Python 3",
   "language": "python",
   "name": "python3"
  },
  "language_info": {
   "codemirror_mode": {
    "name": "ipython",
    "version": 3
   },
   "file_extension": ".py",
   "mimetype": "text/x-python",
   "name": "python",
   "nbconvert_exporter": "python",
   "pygments_lexer": "ipython3",
   "version": "3.10.9"
  },
  "orig_nbformat": 4,
  "vscode": {
   "interpreter": {
    "hash": "e7370f93d1d0cde622a1f8e1c04877d8463912d04d973331ad4851f04de6915a"
   }
  }
 },
 "nbformat": 4,
 "nbformat_minor": 2
}
